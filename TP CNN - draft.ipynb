{
 "cells": [
  {
   "cell_type": "markdown",
   "metadata": {},
   "source": [
    "# TP1: CNN denoising\n",
    "\n",
    "The objective of this lesson is to explore some basic aspects of convolutional neuronal networks (CNN) applied to denoising.\n",
    "We will show how to define and train a network in pytorch. Then study some simple network architectures and explore their limits.\n",
    "\n",
    "We will cover the following topics:\n",
    "* Define a CNN model and load pre-trained weights\n",
    "* Apply CNN to an images\n",
    "* Training a CNN\n",
    "    * Data preparation\n",
    "    * Network model \n",
    "    * Loss function\n",
    "    * Optimizer\n",
    "\n",
    "\n",
    "**Questions:**\n",
    "1. robustness of a pretrained CNN to changes of $\\sigma$, shifts, and affine contrast changes \n",
    "2. train a DCT denoiser, compare with the original DCT denoising\n",
    "3. train a shalloNN similar to DnCNN and compare with DCT\n",
    "4. **INCOMPLETE....**\n",
    "\n",
    "\n",
    "#### Instructions\n",
    "To solve this TP, answer the question below and send a short report by mail to [facciolo@cmla.ens-cachan.fr](mailto:facciolo@cmla.ens-cachan.fr) with subject \"Report TPCNN1 of SURNAME, Name\", by tomorrow (9-2-2018).  You will receive an acknowledgement of receipt."
   ]
  },
  {
   "cell_type": "code",
   "execution_count": null,
   "metadata": {},
   "outputs": [],
   "source": [
    "# This notebook can also run on colab (https://colab.research.google.com/)\n",
    "# The following lines install the necessary packages in the colab environment\n",
    "try: \n",
    "    from google.colab import files\n",
    "    !pip install torch==0.4.0\n",
    "    !pip install torchvision \n",
    "    !pip install Pillow==4.0.0\n",
    "    !pip install scikit-image\n",
    "    !pip install hdf5storage\n",
    "    \n",
    "    !pip install git+https://github.com/szagoruyko/pytorchviz\n",
    "    !apt-get install graphviz\n",
    "    \n",
    "    !rm -fr MVA2018-denoising\n",
    "    !git clone  https://github.com/gfacciol/MVA2018-denoising.git\n",
    "    !cp -r MVA2018-denoising/* .\n",
    "\n",
    "except ImportError:\n",
    "    pass"
   ]
  },
  {
   "cell_type": "code",
   "execution_count": 12,
   "metadata": {},
   "outputs": [
    {
     "name": "stdout",
     "output_type": "stream",
     "text": [
      "The autoreload extension is already loaded. To reload it, use:\n",
      "  %reload_ext autoreload\n"
     ]
    }
   ],
   "source": [
    "## Setup code for the notebook\n",
    "##\n",
    "# These are all the includes used through the notebook\n",
    "import numpy as np     \n",
    "import torch\n",
    "import torch.nn as nn\n",
    "import matplotlib.pyplot as plt\n",
    "from skimage import io # read and write images\n",
    "import vistools        # image visualization toolbox\n",
    "\n",
    "#%matplotlib notebook\n",
    "# Autoreload external python modules\n",
    "# see http://stackoverflow.com/questions/1907993/autoreload-of-modules-in-ipython\n",
    "%load_ext autoreload\n",
    "%autoreload 2"
   ]
  },
  {
   "cell_type": "markdown",
   "metadata": {},
   "source": [
    "-----------------------------"
   ]
  },
  {
   "cell_type": "code",
   "execution_count": null,
   "metadata": {},
   "outputs": [],
   "source": []
  },
  {
   "cell_type": "markdown",
   "metadata": {},
   "source": [
    "# Define a denoising CNN"
   ]
  },
  {
   "cell_type": "markdown",
   "metadata": {},
   "source": [
    "\n",
    "      K. Zhang, W. Zuo, Y. Chen, D. Meng, and L. Zhang, “Beyond a Gaussian Denoiser: Residual Learning of Deep CNN for Image Denoising,” IEEE Trans. Image Process., vol. 26, no. 7, pp. 3142–3155, Jul. 2017.\n",
    "\n",
    "<img width=700 src=\"https://raw.githubusercontent.com/gfacciol/MVA2018-denoising/master/models/DnCNN.png\"/>\n",
    "\n",
    "\n",
    "The code below declares the **DnCNN** network. The same definition is also available in the `models` module. \n",
    "An instance of the network for grayscale images is created with `model = DnCNN(1,1)` where the parameters `1` indicate the number of input and output channels.\n",
    "The model is made of atomic blocks such as `nn.Conv2d`, whch represents a convolutional layer. Note how the layers are declared in the `__init__` method of each model and then called in `forward`. \n",
    "\n",
    "A newly created network is initialized with random weights. \n",
    "Next we'll see how to load pretrained weiths.  "
   ]
  },
  {
   "cell_type": "code",
   "execution_count": null,
   "metadata": {},
   "outputs": [],
   "source": [
    "from models import DnCNN\n",
    "\n",
    "import torch\n",
    "import torch.nn as nn\n",
    "\n",
    "\n",
    "\n",
    "##\n",
    "class CONV_BN_RELU(nn.Module):\n",
    "    '''\n",
    "    model for a layer with: 2D CONV + BatchNorm + ReLU activation\n",
    "    the parameters indicate the input and output channels, \n",
    "    the kernel size, the padding, and the stride \n",
    "    '''\n",
    "    def __init__(self,in_channels=128, out_channels=128, kernel_size=7, \n",
    "                 stride=1, padding=3):\n",
    "        super(CONV_BN_RELU, self).__init__()\n",
    "\n",
    "        #self.pad  = nn.ReflectionPad2d(kernel_size//2)\n",
    "        self.conv = nn.Conv2d(in_channels, out_channels, kernel_size, \n",
    "                              stride=stride, padding=padding)\n",
    "        self.bn   = nn.BatchNorm2d(out_channels)\n",
    "        self.relu = nn.ReLU(inplace=True)\n",
    "        \n",
    "    def forward(self, x):\n",
    "        out = self.conv(x)\n",
    "        out = self.bn(out)\n",
    "        out = self.relu(out)\n",
    "        \n",
    "        return(out)\n",
    "\n",
    "\n",
    "\n",
    "class DnCNN(nn.Module):\n",
    "    '''\n",
    "    model for a DnCNN network build using CONV_BN_RELU units \n",
    "    the parameters indicate the input and output channels, \n",
    "    the kernel size (default 3), the number of layers (17 for grayscale),  \n",
    "    and number of features (default 64)\n",
    "    The residual option allows to deactivate the residual learning\n",
    "    '''\n",
    "    def __init__(self, inchannels=1, outchannels=1, num_of_layers=17, \n",
    "                 features=64, kernel_size=3, residual=True):\n",
    "        super(DnCNN, self).__init__()\n",
    "        \n",
    "        self.residual = residual\n",
    "        \n",
    "        self.layers = []  \n",
    "        \n",
    "        # first layer \n",
    "        self.layers.append(CONV_BN_RELU(in_channels=inchannels, \n",
    "                                        out_channels=features, \n",
    "                                        kernel_size=kernel_size, \n",
    "                                        stride=1, padding=kernel_size//2))\n",
    "        # intermediate layers\n",
    "        for _ in range(num_of_layers-2):\n",
    "            self.layers.append(CONV_BN_RELU(in_channels=features, \n",
    "                                            out_channels=features, \n",
    "                                            kernel_size=kernel_size, \n",
    "                                            stride=1, padding=kernel_size//2))\n",
    "        # last layer \n",
    "        self.layers.append(nn.Conv2d(in_channels=features, \n",
    "                                     out_channels=outchannels, \n",
    "                                     kernel_size=kernel_size, \n",
    "                                     stride=1, padding=kernel_size//2))\n",
    "        # chanin the layers\n",
    "        self.dncnn = nn.Sequential(*self.layers)\n",
    "\n",
    "        \n",
    "    def forward(self, x):\n",
    "        ''' forward declaration '''\n",
    "        out = self.dncnn(x)\n",
    "        \n",
    "        if self.residual: # residual learning    \n",
    "            out = x - out \n",
    "        \n",
    "        return(out)\n"
   ]
  },
  {
   "cell_type": "markdown",
   "metadata": {},
   "source": [
    "#### Question 1. Count the number of parameters in the network defined below?\n",
    "\n",
    "**`m = DnCNN(inchannels=1, outchannels=1, num_of_layers=17, features=64, kernel_size=3)`**"
   ]
  },
  {
   "cell_type": "code",
   "execution_count": null,
   "metadata": {},
   "outputs": [],
   "source": []
  },
  {
   "cell_type": "markdown",
   "metadata": {},
   "source": [
    "### Load pretrained weights into the network\n",
    "\n",
    "\n",
    "For the DnCNN model some pretrained weights are available. These weights are **trained over 128 epochs on 1600 crops from 400 images**. \n",
    "The pretrained model for the noise `sigma` can be imported by calling the function below. **Yes, there is a network for each noise level** (for levels in `range(10,70,5)`)\n",
    "\n",
    "    def DnCNN_pretrained_grayscale(sigma=30, savefile=None, verbose=False):\n",
    "        '''\n",
    "        loads the pretrained weights of DnCNN for grayscale images from \n",
    "        https://github.com/cszn/DnCNN.git\n",
    "\n",
    "        sigma: is the level of noise in range(10,70,5)\n",
    "        savefile: is the .pt file to save the model weights \n",
    "        returns the DnCNN(1,1) model with 17 layers with the pretrained weights\n",
    "       '''\n",
    "\n",
    "A network model can be saved to a more convenient local format by calling \n",
    "\n",
    "    torch.save(m, 'model.pt')\n",
    "\n",
    "and reloaded with \n",
    "\n",
    "    m = torch.load('model.pt')\n",
    "    \n",
    "Next we'll see how to apply this model on a test image. "
   ]
  },
  {
   "cell_type": "code",
   "execution_count": null,
   "metadata": {},
   "outputs": [],
   "source": [
    "from models import DnCNN, DnCNN_pretrained_grayscale\n",
    "\n",
    "sigma=30\n",
    "m = DnCNN_pretrained_grayscale(sigma)"
   ]
  },
  {
   "cell_type": "code",
   "execution_count": null,
   "metadata": {},
   "outputs": [],
   "source": []
  },
  {
   "cell_type": "markdown",
   "metadata": {},
   "source": [
    "### Apply the network\n",
    "\n",
    "The function `test_denoiser_on_one_image` defined below applies a network to an image with simulated noise of standard deviation `sigma`. To apply `Denoiser` the network without storing the backpropagation values it must be put in `eval()` mode. To evaluate the result we mesure the \n",
    "$$ PSNR=10\\log_{10}\\frac{255^2}{MSE}, $$ \n",
    "where $MSE$ is the mean squared error between the denoised image and the noiseless one.   \n",
    "\n",
    "The code below calls the `test_denoiser_on_one_image` function on an image from the test dataset. "
   ]
  },
  {
   "cell_type": "code",
   "execution_count": 40,
   "metadata": {},
   "outputs": [],
   "source": [
    "def PSNR(img_clean, out):\n",
    "    x = ((np.array(out).squeeze() - np.array(img_clean).squeeze()).flatten() )\n",
    "    return (10*np.log10(1 / np.mean(x**2)))\n",
    "  \n",
    "\n",
    "def test_denoiser_on_one_image(Denoiser, img_clean, sigma = 30, show=True):\n",
    "    'simulates a noisy image from img_clean and applies the Denoiser'\n",
    "    import torch\n",
    "    import vistools\n",
    "    import numpy as np\n",
    "   \n",
    "    # put the image in the range [0,255] and add noise\n",
    "    img_clean = img_clean.astype('float32') / 255.0\n",
    "    img_test = img_clean + np.random.normal(0, sigma/255.0, img_clean.shape)\n",
    "    \n",
    "    # call the Denoiser \n",
    "    dtype = torch.FloatTensor\n",
    "    # GPU\n",
    "    if torch.cuda.is_available():\n",
    "        Denoiser = Denoiser.cuda()\n",
    "        dtype    = torch.cuda.FloatTensor \n",
    "    \n",
    "    Denoiser.eval()   \n",
    "    \n",
    "    with torch.no_grad():\n",
    "        img = dtype(img_test[np.newaxis,np.newaxis,:,:])\n",
    "        out = Denoiser.forward(img)\n",
    "        out = out.cpu()\n",
    "     \n",
    "    # compute psnr\n",
    "    psnrIN, psnrOUT = PSNR(img_clean, img), PSNR(img_clean, out)\n",
    "    \n",
    "    if show:\n",
    "        vistools.display_gallery([np.array(out).clip(0,1)*255, \n",
    "                                  np.array(img).clip(0,1)*255, \n",
    "                                  np.array(img_clean).clip(0,1)*255, ], \n",
    "                                 ['denoised (%.2f dB)'%psnrOUT , \n",
    "                                  'noisy (%.2f dB)'%psnrIN, 'clean'])\n",
    "    \n",
    "    return psnrIN, psnrOUT, img, out"
   ]
  },
  {
   "cell_type": "markdown",
   "metadata": {},
   "source": [
    "#### Let's apply the network\n",
    "\n",
    "The directory `datasets` contains different image datasets. We will use `datasets/Test400` for training and validation. For testing we use the images in for instance `datasets/BSD68/test002.png` (there are other 67 images). "
   ]
  },
  {
   "cell_type": "code",
   "execution_count": null,
   "metadata": {},
   "outputs": [],
   "source": [
    "from skimage import io\n",
    "import torch\n",
    "from models import DnCNN, DnCNN_pretrained_grayscale\n",
    "\n",
    "sigma = 30\n",
    "# m = DnCNN(1,1) # non trained model\n",
    "m = DnCNN_pretrained_grayscale(sigma, savefile='dncnnmodel_%d.pt'%sigma)\n",
    "# m = torch.load('dncnnmodel_%d.pt'%sigma)\n",
    "\n",
    "img_clean = io.imread('datasets/BSD68/test002.png', dtype='float32') \n",
    "_,_,im_noisy,im_out = test_denoiser_on_one_image(m, img_clean, sigma=sigma)"
   ]
  },
  {
   "cell_type": "markdown",
   "metadata": {},
   "source": [
    "Now, let's try on a synthetic image"
   ]
  },
  {
   "cell_type": "code",
   "execution_count": null,
   "metadata": {},
   "outputs": [],
   "source": [
    "# a synthetic image\n",
    "img = np.ones((256,256))*64\n",
    "img[:,0:128] += 128\n",
    "\n",
    "# model\n",
    "sigma=50\n",
    "m = DnCNN(1,1)\n",
    "\n",
    "# test\n",
    "_ = test_denoiser_on_one_image(m, img, sigma=sigma)"
   ]
  },
  {
   "cell_type": "markdown",
   "metadata": {},
   "source": [
    "#### Question 2. Why the synthetic experiment failed? \n"
   ]
  },
  {
   "cell_type": "markdown",
   "metadata": {
    "scrolled": false
   },
   "source": [
    "#### Question 3. Robustness of a pretrained CNN to  translations, affine contrast chantes, and changes of noise $\\sigma$.\n",
    "\n",
    "\n",
    "Study how the previous network behaves as we change the the noise level, apply affine contrast changes ($X' = a X + b$), and \n",
    "\n",
    "Use a single image for all the tests (i.e. `datasets/BSD68/test005.png`), for evaluating each iamge use `test_denoiser_on_one_image`. For each test plot the PSNR as function the tranformation parameters. \n",
    "\n",
    "**What can you conclude?**"
   ]
  },
  {
   "cell_type": "code",
   "execution_count": null,
   "metadata": {},
   "outputs": [],
   "source": []
  },
  {
   "cell_type": "markdown",
   "metadata": {},
   "source": [
    "-----------------------------"
   ]
  },
  {
   "cell_type": "markdown",
   "metadata": {},
   "source": [
    "# Train a network\n",
    "\n",
    "Neural networks are trained using large number of examples. In out case pairs of noisy (input) and denoised (output) images, which are used to automatically infer rules for denoising the images.\n",
    "For a given pair of noisy and noiseless images $x, y$, the network computes $\\tilde y = \\text{NET}_\\theta(x)$. The training process minimizes the loss $\\mathcal{L}$ for all the examples: \n",
    "$$ \\min_\\theta \\sum_{(x_i, y_i)\\in \\text{examples}} \\mathcal{L}( \\text{NET}_\\theta(x_i), y_i)$$\n",
    "\n",
    "For learning several elements are needed:  \n",
    "* **data**: a large amount of pairs of noisy and noiseless images \n",
    "* **network model**: the description of the network architecture\n",
    "* **loss function**: the metric to compare the denoised and noiseless images\n",
    "* **optimizer**: updates the model parameters (or weights) according to the gradient of the loss. Its hyperparameters control the learning rate and the regularity such as the weight_decay \n",
    "\n",
    "These elements will be the inputs of the training process.\n",
    "The training loop consists of an iterative learning process in which the training images are presented to the network in batches producing a batch of outputs, which are compered with the corresponding noiseless images accordign to the loss function. \n",
    "The network weights are adjusted to minimize the loss.\n",
    "After all images are presented, the process often starts over again.\n"
   ]
  },
  {
   "cell_type": "code",
   "execution_count": null,
   "metadata": {},
   "outputs": [],
   "source": []
  },
  {
   "cell_type": "markdown",
   "metadata": {},
   "source": [
    "### Data preparation\n",
    "\n",
    "The training dataset will be handled by a DataLoader, which combines a dataset and a sampler, \n",
    "and provides iterators over the dataset. For the denoising task the data consists of pairs noisy\n",
    "and noiseless image patches extracted from a set of images.\n",
    "For simplicity the module `denoising_dataloaders` provides a function that given a directory containing noiseless images generates the dataloaders for training and validation.\n",
    "\n",
    "`def train_validation_denoising_dataloaders(imagepath, noise_sigma=30, crop_size=40, \n",
    "                                            train_batch_size=128, val_batch_size=32, \n",
    "                                            validation_split_fraction=0.1)`\n",
    "\n",
    "The dataloader will randomly crop patches (of size `crop_size`) from the images and add noise with the specified intensity. "
   ]
  },
  {
   "cell_type": "markdown",
   "metadata": {},
   "source": [
    "#### Let's display the data generated by the dataloader\n",
    "\n",
    "For training and validation we will be using the images in `./datasets/Train400/`."
   ]
  },
  {
   "cell_type": "code",
   "execution_count": null,
   "metadata": {
    "scrolled": true
   },
   "outputs": [],
   "source": [
    "from denoising_dataloaders import train_validation_denoising_dataloaders\n",
    "import vistools\n",
    "\n",
    "\n",
    "trainloader, validationloader = train_validation_denoising_dataloaders(\n",
    "                                            './datasets/Train400/', \n",
    "                                            noise_sigma=30, \n",
    "                                            crop_size=40, \n",
    "                                            train_batch_size=128 )\n",
    "\n",
    "\n",
    "# this helper function displays the pairs of images\n",
    "X, Y = list(trainloader)[0]\n",
    "\n",
    "print('-- noisy patches --')\n",
    "vistools.display_patches(X)\n",
    "print('-- noiseless patches --')\n",
    "vistools.display_patches(Y)"
   ]
  },
  {
   "cell_type": "markdown",
   "metadata": {},
   "source": [
    "### Training loop\n",
    "\n",
    "In the training loop the network processes batches of training images using the weights and functions in the hidden layers, then compares the resulting outputs against the desired (noiseless) outputs. \n",
    "Errors are then back-propagated through the system for the computation of the gradient of the loss with respect to the parameters of the network. This gradient will be used \n",
    "by an optimizer to adjust the the parameters for the next iteration. \n",
    "\n",
    "To summarize the steps of the learning process: \n",
    "\n",
    "1. *For each minibatch*\n",
    "    1. *Apply forward model to compute the output*\n",
    "    2. *Compute the loss on the batch*\n",
    "    3. *Backpropagation: compute the gradient of the loss with respect to all the learnable parameters of the model*\n",
    "    4. *Optimizer updates the model parameters using the gradients computed above*\n",
    "2. *Each N iterations compute the loss on the validation dataset* \n",
    "\n",
    " \n",
    "The function `trainmodel` implements the above algorithm. \n",
    "\n",
    "    def trainmodel(model, loss_fn, loader_train, loader_val=None, \n",
    "                   optimizer=None, scheduler=None, num_epochs = 1, \n",
    "                   save_every=10, loss_every=10, filename=None):\n",
    "    Args:\n",
    "        - model       : network to be trained\n",
    "        - loss_fn     : loss functions\n",
    "        - loader_train: dataloader for the training set\n",
    "        - loader_val  : dataloader for the validation set (default None)\n",
    "        - optimizer   : the gradient descent method (default None)\n",
    "        - scheduler   : handles the hyperparameters of the optimizer\n",
    "        - num_epoch   : number of training epochs\n",
    "        - save_every  : save the model every n epochs\n",
    "        - filename    : base filename for the saved models\n",
    "        - loss_every  : print the loss every n epochs\n",
    "    Returns:\n",
    "        - model          : the trained network \n",
    "        - loss_history   : the history of loss values on the training set\n",
    "        - valloss_history: the history of loss values on the validation set "
   ]
  },
  {
   "cell_type": "code",
   "execution_count": null,
   "metadata": {},
   "outputs": [],
   "source": [
    "\n",
    "def check_accuracy(model, loss_fn, dataloader):\n",
    "    \"\"\"\n",
    "    auxiliary function that computes mean of the loss_fn \n",
    "    over the dataset given by dataloader\n",
    "    \"\"\"\n",
    "    import torch\n",
    "\n",
    "    dtype = torch.FloatTensor\n",
    "    if torch.cuda.is_available():\n",
    "        model = model.cuda()\n",
    "        loss_fn = loss_fn.cuda()\n",
    "        dtype   = torch.cuda.FloatTensor\n",
    "        \n",
    "    loss = 0\n",
    "    model.eval()  # set model to evaluation mode\n",
    "    with torch.no_grad():\n",
    "        for t, (x, y) in enumerate(dataloader):\n",
    "            x_var = x.type(dtype)\n",
    "            y_var = y.type(dtype)\n",
    "            out   = model(x_var)\n",
    "            loss += loss_fn(out, y_var)\n",
    "        return loss/(t+1)\n",
    "        \n",
    "        \n",
    "\n",
    "def trainmodel(model, loss_fn, loader_train, loader_val=None, \n",
    "               optimizer=None, scheduler=None, num_epochs = 1, \n",
    "               save_every=10, loss_every=10, filename=None):\n",
    "    \"\"\"\n",
    "    function that trains a network model\n",
    "    Args:\n",
    "        - model       : network to be trained\n",
    "        - loss_fn     : loss functions\n",
    "        - loader_train: dataloader for the training set\n",
    "        - loader_val  : dataloader for the validation set (default None)\n",
    "        - optimizer   : the gradient descent method (default None)\n",
    "        - scheduler   : handles the hyperparameters of the optimizer\n",
    "        - num_epoch   : number of training epochs\n",
    "        - save_every  : save the model every n epochs\n",
    "        - filename    : base filename for the saved models\n",
    "        - loss_every  : print the loss every n epochs\n",
    "    Returns:\n",
    "        - model          : the trained network \n",
    "        - loss_history   : the history of loss values on the training set\n",
    "        - valloss_history: the history of loss values on the validation set \n",
    "    \"\"\" \n",
    "    import torch\n",
    "    import torch.nn as nn\n",
    "    import torch.optim as optim\n",
    "    from time import time\n",
    "    import numpy as np    \n",
    "    \n",
    "    dtype = torch.FloatTensor\n",
    "    # GPU\n",
    "    if torch.cuda.is_available():\n",
    "        model   = model.cuda()\n",
    "        loss_fn = loss_fn.cuda()\n",
    "        dtype   = torch.cuda.FloatTensor\n",
    "   \n",
    "\n",
    "    if optimizer == None or scheduler == None:\n",
    "        # the optimizer is in charge of updating the parameters of the model\n",
    "        # it has hyperparameters for controlling the learning rate (lr) and \n",
    "        # the regularity such as the weight_decay \n",
    "        optimizer = optim.Adam(model.parameters(), lr=0.001, betas=(0.9, 0.999), \n",
    "                               eps=1e-08, weight_decay=0.00001, amsgrad=False)\n",
    "\n",
    "        # the learning rate scheduler monitors the evolution of the loss\n",
    "        # and adapts the learning rate to avoid plateaus \n",
    "        scheduler = optim.lr_scheduler.ReduceLROnPlateau(optimizer, mode='min', \n",
    "                            factor=0.9, patience=5000, verbose=True, \n",
    "                            threshold=0.0001, threshold_mode='rel', \n",
    "                            cooldown=0, min_lr=0, eps=1e-08)  \n",
    "    \n",
    "    loss_history=[]\n",
    "    valloss_history=[]\n",
    "    \n",
    "    for epoch in range(num_epochs):\n",
    "        \n",
    "        for t, (x, y) in enumerate(loader_train):\n",
    "            # make sure that the models is in train mode\n",
    "            model.train()  \n",
    "\n",
    "            # Apply forward model and compute loss on the batch\n",
    "            x_var = x.type(dtype)\n",
    "            y_var = y.type(dtype)\n",
    "            out = model(x_var)  \n",
    "            loss = loss_fn(out, y_var)\n",
    "            \n",
    "            # Zero out the gradients of parameters that the optimizer \n",
    "            # will update. The optimizer is already linked to the \n",
    "            optimizer.zero_grad()\n",
    "\n",
    "            # Backwards pass: compute the gradient of the loss with\n",
    "            # respect to all the learnable parameters of the model.\n",
    "            loss.backward()\n",
    "\n",
    "            # Update the parameters of the model using the gradients\n",
    "            # computed by the backwards pass.\n",
    "            optimizer.step()\n",
    "\n",
    "            # Display current loss and compute validation loss\n",
    "            if t % loss_every == 0:\n",
    "                valstring=''\n",
    "                if loader_val is not None:\n",
    "                    valloss   = check_accuracy(model, loss_fn, loader_val)\n",
    "                    valstring = ', val_loss = %.4f'%valloss.item()\n",
    "                    valloss_history.append(valloss)\n",
    "                loss_history.append(loss)\n",
    "                print('Epoch %4d/%4d, ' % (epoch + 1, num_epochs) +  \n",
    "                      'Iteration %d, loss = %.4f%s'% (t, loss.item(), valstring))\n",
    "                \n",
    "        if filename and ((epoch+1) % save_every == 0):\n",
    "                torch.save([model, optimizer, loss_history, valloss_history], \n",
    "                           filename+'%s.pt' %int(epoch+1))\n",
    "\n",
    "        # scheduler update\n",
    "        scheduler.step(loss.data)\n",
    "              \n",
    "    return model, loss_history, valloss_history"
   ]
  },
  {
   "cell_type": "markdown",
   "metadata": {
    "scrolled": true
   },
   "source": [
    "### Define and train a shallow DnCNN denoiser\n",
    "\n",
    "**Training a CNN is a CPU and Memory intensive task**. With the available computational resources we can only afford to put to learn a small network for only few epochs. \n",
    "\n",
    "We use the DnCNN defined above, and set the number of layers to 2, but keep the number of features to 64. "
   ]
  },
  {
   "cell_type": "code",
   "execution_count": null,
   "metadata": {},
   "outputs": [],
   "source": [
    "import torch\n",
    "from denoising_dataloaders import train_validation_denoising_dataloaders\n",
    "from models import DnCNN\n",
    "\n",
    "# dataloaders for train and validations\n",
    "sigma = 30\n",
    "trainloader, validationloader = train_validation_denoising_dataloaders(\n",
    "                                          './datasets/Train400/', \n",
    "                                           noise_sigma=sigma, \n",
    "                                           crop_size=40, \n",
    "                                           train_batch_size=128 )\n",
    "\n",
    "# network model \n",
    "Denoiser = DnCNN(1,1,num_of_layers=2, residual=False)\n",
    "\n",
    "# loss\n",
    "loss = nn.MSELoss()\n",
    "#loss = nn.L1Loss()\n",
    "\n",
    "# run the training loop\n",
    "Denoiser, loss, lossv, = trainmodel(Denoiser, loss, trainloader, validationloader, \n",
    "                                    num_epochs=30, save_every=10, loss_every=10, \n",
    "                                    filename='DnCNN3_')\n",
    "\n",
    "# plot loss\n",
    "plt.semilogy(loss, label='train')\n",
    "plt.semilogy(lossv, label='val')\n",
    "plt.legend()"
   ]
  },
  {
   "cell_type": "code",
   "execution_count": null,
   "metadata": {},
   "outputs": [],
   "source": [
    "from skimage import io\n",
    "from models import DCT\n",
    "Denoiser = torch.load('DnCNN3_30.pt')[0]\n",
    "\n",
    "img_clean = io.imread('datasets/BSD68/test002.png', dtype='float32') \n",
    "_ = test_denoiser_on_one_image(Denoiser, img_clean, sigma=sigma)"
   ]
  },
  {
   "cell_type": "markdown",
   "metadata": {},
   "source": [
    "#### Question 4.  Compare the training with and without residual learning.\n",
    "\n",
    "Run the same training with a network defined without residual learning:\n",
    "\n",
    "    Denoiser = DnCNN(1,1,num_of_layers=2, residual=False)\n",
    "\n",
    "**Can you explain this result?**\n",
    "\n",
    "\n",
    "Note: For a quantitative comparison you can use the `check_accuracy` function that computes the loss on a database \n",
    "\n",
    "    def check_accuracy(model, loss_fn, dataloader):\n",
    "        \"\"\"\n",
    "        auxiliary function that computes mean of the loss_fn \n",
    "        over the dataset given by dataloader\n",
    "        \"\"\""
   ]
  },
  {
   "cell_type": "code",
   "execution_count": null,
   "metadata": {},
   "outputs": [],
   "source": []
  },
  {
   "cell_type": "markdown",
   "metadata": {},
   "source": [
    "#### Question 5.  Compare the training using MSE and L1 loss.\n",
    "\n",
    "On the same epoch budget, run the training (for the model with residual learning) but use `loss=nn.L1Loss()` instead of the `loss=MSELoss()`. **What is your interpretation of the two **"
   ]
  },
  {
   "cell_type": "code",
   "execution_count": null,
   "metadata": {},
   "outputs": [],
   "source": []
  },
  {
   "cell_type": "markdown",
   "metadata": {},
   "source": [
    "#### Let's visualize the input filters learned for the shallow DnCNN network (with 3 layers)"
   ]
  },
  {
   "cell_type": "code",
   "execution_count": null,
   "metadata": {
    "scrolled": false
   },
   "outputs": [],
   "source": [
    "from models import DnCNN\n",
    "Denoiser = torch.load('DnCNN3_30.pt')[0]\n",
    "\n",
    "# Number of filters\n",
    "N = Denoiser.layers[0].conv.weight.shape[0]\n",
    "\n",
    "print ('INPUT FILTERS')\n",
    "#print([ Denoiser.direct_trans.weight.shape])\n",
    "XX = [ Denoiser.layers[0].conv.weight[i,0,:,:].detach().cpu().numpy() for i in range(N) ]\n",
    "vistools.display_patches(XX)\n",
    "\n",
    "print ('OUTPUT FILTERS')\n",
    "YY = [ Denoiser.layers[1].weight[0,i,:,:].detach().cpu().numpy() for i in range(N) ]\n",
    "vistools.display_patches(YY)\n",
    "\n",
    "\n",
    "if 1:\n",
    "    print ('CROSS PRODUCT OF THE INPUT FILTERS')\n",
    "    XXX = [ x.flatten()  for x in XX]\n",
    "    vistools.display_imshow(np.abs(np.array(XXX).dot(np.array(XXX).transpose()) ))"
   ]
  },
  {
   "cell_type": "markdown",
   "metadata": {},
   "source": [
    "#### Question 6. Viaualize the input and output filters of the pretrained DnCNN (with 17 layers). "
   ]
  },
  {
   "cell_type": "code",
   "execution_count": null,
   "metadata": {
    "scrolled": false
   },
   "outputs": [],
   "source": [
    "from models import DnCNN\n",
    "Denoiser = torch.load('dncnnmodel_30.pt')\n",
    "\n",
    "\n",
    "# Number of filters\n",
    "N = Denoiser.layers[0].conv.weight.shape[0]\n",
    "\n",
    "print ('INPUT FILTERS')\n",
    "XX = [ Denoiser.layers[0].conv.weight[i,0,:,:].detach().cpu().numpy() for i in range(N) ]\n",
    "vistools.display_patches(XX)\n",
    "\n",
    "print ('OUTPUT FILTERS')\n",
    "YY = [ Denoiser.layers[16].weight[0,i,:,:].detach().cpu().numpy() for i in range(N) ]\n",
    "vistools.display_patches(YY)\n",
    "\n",
    "\n",
    "if 1:\n",
    "    print ('CROSS PRODUCT OF THE INPUT FILTERS')\n",
    "    XXX = [ x.flatten()  for x in XX]\n",
    "    vistools.display_imshow(np.abs(np.array(XXX).dot(np.array(XXX).transpose()) ))"
   ]
  },
  {
   "cell_type": "markdown",
   "metadata": {},
   "source": [
    "-----------------------------"
   ]
  },
  {
   "cell_type": "markdown",
   "metadata": {},
   "source": [
    "# Study of a CNN model inspired on DCT denoising\n",
    "\n",
    "\n",
    "<img width=200 src=\"https://raw.githubusercontent.com/gfacciol/MVA2018-denoising/master/models/dct.png\"/>\n",
    "\n",
    "    G. Yu, and G. Sapiro, DCT Image Denoising: a Simple and Effective Image Denoising Algorithm, Image Processing On Line, 2011. (https://doi.org/10.5201/ipol.2011.ys-dct)\n",
    "\n",
    "\n",
    "The DCT denoising algorithm\n",
    "* computes a patch-wise (N x N) DCT transform, \n",
    "* thresholds the coefficients of each patch, \n",
    "* then inverts the DCT transform aggregating the resulting patches.\n",
    "\n",
    "These operations can be implemented in a CNN architecture. The DCT transform of the patches are convolutions (without bias) of the input image with DCT base vectors, which are stored as N\\*N channels. \n",
    "The threshold is implmented with aritmetic operations. The inverse transform and aggregation are computed by means of a transposed convolution (without bias) with the inverse DCT base elements.\n",
    "\n",
    "The class `DCTlike`, defined below, creates a model that implements DCT denoising."
   ]
  },
  {
   "cell_type": "code",
   "execution_count": null,
   "metadata": {},
   "outputs": [],
   "source": [
    "   \n",
    "class DCTlike(nn.Module):\n",
    "    \"\"\"\n",
    "    implementation of DCT denosing with a CNN architecture\n",
    "    Args:\n",
    "        DCT denoising as a CNN\n",
    "        ksize: patch size for the DCT\n",
    "        sigma: noise level (multiplies the threshold)\n",
    "        initializeDCT: initializes the convolutional layers as \n",
    "            the DCT and iDCT transforms\n",
    "    Returns:\n",
    "        model: initialized model\n",
    "    \"\"\"\n",
    "    def __init__(self, ksize=7, sigma=30, initializeDCT=True):\n",
    "        super(DCTlike, self).__init__()       \n",
    "        from scipy.fftpack import dct, idct\n",
    "        import numpy as np\n",
    "        \n",
    "        dtype = torch.FloatTensor\n",
    "        if torch.cuda.is_available():  dtype = torch.cuda.FloatTensor\n",
    "            \n",
    "        self.sigma = sigma\n",
    "            \n",
    "        ch = ksize**2 \n",
    "                \n",
    "        # direct DCT\n",
    "        self.direct_trans = nn.Conv2d(in_channels=1, out_channels=ch,\n",
    "                                      kernel_size=ksize, stride=1,\n",
    "                                      padding=ksize//2, bias=False)\n",
    "\n",
    "        # threshold parameter (one variable per frequency) \n",
    "        self.thr = nn.Parameter(dtype(np.ones((1,ch,1,1))), requires_grad=True)\n",
    "\n",
    "        # inverse DCT\n",
    "        self.inv_trans_and_aggreg = nn.ConvTranspose2d(in_channels=ch, out_channels=1,\n",
    "                                                       kernel_size=ksize, stride=1,\n",
    "                                                       padding=ksize//2, bias=False)\n",
    "        \n",
    "        # initialize the isometric DCT transforms        \n",
    "        if initializeDCT:\n",
    "            for i in range(ch):\n",
    "                a=np.zeros((ksize,ksize)); a.flat[i] = 1\n",
    "                a1 = dct(dct(a.T,norm='ortho', type=3).T,norm='ortho', type=3)\n",
    "                a2 = idct(idct(a.T,norm='ortho', type=2).T,norm='ortho', type=2)\n",
    "\n",
    "                self.direct_trans.weight.data[i,0,:,:] = nn.Parameter(dtype(a1));\n",
    "                self.inv_trans_and_aggreg.weight.data[i,0,:,:] = 1/(ch) *nn.Parameter(dtype(a2));\n",
    "            \n",
    "                \n",
    "    def forward(self, x):\n",
    "        # direct transform\n",
    "        out = self.direct_trans(x)\n",
    "\n",
    "        # hard thresholding (the not so easy way)\n",
    "        out = out*self.thr\n",
    "        th = 3.0*self.sigma/255        #  3*sigma\n",
    "        tmp =  out * (torch.abs(out) > th).float() \n",
    "        #tmp[:,0,:,:] = out[:,0,:,:]   # should fix the DC\n",
    "        out = out/self.thr\n",
    "\n",
    "        #  out = self.shrinkage(out)     \n",
    "        # inverse transform\n",
    "        out =  self.inv_trans_and_aggreg(tmp)\n",
    "        \n",
    "        return(out)"
   ]
  },
  {
   "cell_type": "markdown",
   "metadata": {},
   "source": [
    "Let's run the denoiser with its ideal DCT filters"
   ]
  },
  {
   "cell_type": "code",
   "execution_count": null,
   "metadata": {},
   "outputs": [],
   "source": [
    "from models import DCTlike\n",
    "from skimage import io\n",
    "\n",
    "sigma=30\n",
    "Denoiser = DCTlike(7,sigma,initializeDCT=True) \n",
    "\n",
    "img_clean = io.imread('datasets/BSD68/test002.png', dtype='float32') \n",
    "_ = test_denoiser_on_one_image(Denoiser, img_clean, sigma=sigma)\n"
   ]
  },
  {
   "cell_type": "markdown",
   "metadata": {},
   "source": [
    "#### Question 7. Train a DCT-like denoiser, compare with the original DCT denoising\n",
    "\n",
    "1. Train the DCT-like denoising network defined above, with and without initialization. \n",
    "2. How the results are compared with the ones of     https://ipolcore.ipol.im/demo/clientApp/demo.html?id=201 ? \n",
    "3. Visualize the learned filters in the input convolutional layer. \n",
    "4. Compare the results of the shallow DnCNN with the best DCT-like denoising.\n"
   ]
  },
  {
   "cell_type": "code",
   "execution_count": null,
   "metadata": {},
   "outputs": [],
   "source": []
  },
  {
   "cell_type": "code",
   "execution_count": null,
   "metadata": {
    "scrolled": false
   },
   "outputs": [],
   "source": [
    "#### SOLUTION.1\n",
    "#############\n",
    "sigma=30\n",
    "\n",
    "import torch\n",
    "from denoising_dataloaders import train_validation_denoising_dataloaders\n",
    "\n",
    "# data\n",
    "trainloader, validationloader = train_validation_denoising_dataloaders(\n",
    "                                          './datasets/Train400/', \n",
    "                                           noise_sigma=sigma, crop_size=32, \n",
    "                                           train_batch_size=256 )\n",
    "\n",
    "# network model \n",
    "Denoiser = DCTlike(7,30,initializeDCT=True) \n",
    "\n",
    "# loss\n",
    "loss = nn.MSELoss()\n",
    "#loss = nn.L1Loss()\n",
    "\n",
    "# run the training loop\n",
    "Denoiser, loss, lossv, = trainmodel(Denoiser, loss, trainloader, validationloader, \n",
    "                                    num_epochs=100, save_every=10, loss_every=10, \n",
    "                                    filename='DCT_')\n",
    "\n",
    "# plot loss\n",
    "plt.semilogy(loss, label='train')\n",
    "plt.semilogy(lossv, label='val')\n",
    "plt.legend()"
   ]
  },
  {
   "cell_type": "code",
   "execution_count": null,
   "metadata": {},
   "outputs": [],
   "source": [
    "#### SOLUTION.4\n",
    "#############\n",
    "\n",
    "from skimage import io\n",
    "from models import DCTlike\n",
    "Denoiser = torch.load('DCT_100.pt')[0]\n",
    "\n",
    "img_clean = io.imread('datasets/BSD68/test002.png', dtype='float32') \n",
    "_ = test_denoiser_on_one_image(Denoiser, img_clean, sigma=sigma)\n",
    "\n",
    "\n",
    "#### THIS IS PART OF THE SOLUTION \n",
    "\n",
    "from skimage import io\n",
    "import torch\n",
    "from models import DCT\n",
    "\n",
    "\n",
    "#Denoiser = torch.load('CDNCNN_short100.pt')[0]\n",
    "Denoiser = torch.load('DCT_100.pt')[0]\n",
    "import vistools\n",
    "#Denoiser = DCTlike(5) \n",
    "\n",
    "\n",
    "img_clean = io.imread('datasets/BSD68/test002.png', dtype='float32') \n",
    "_, psnr, noisy, denoised = test_denoiser_on_one_image(Denoiser, img_clean, sigma=30)"
   ]
  },
  {
   "cell_type": "code",
   "execution_count": null,
   "metadata": {},
   "outputs": [],
   "source": []
  },
  {
   "cell_type": "code",
   "execution_count": null,
   "metadata": {
    "scrolled": false
   },
   "outputs": [],
   "source": [
    "from models import DnCNN\n",
    "Denoiser = torch.load('DCT_30.pt')[0]\n",
    "\n",
    "\n",
    "# Number of filters\n",
    "N = Denoiser.direct_trans.weight.shape[0]\n",
    "\n",
    "print ('INPUT FILTERS')\n",
    "XX = [ Denoiser.direct_trans.weight[i,0,:,:].detach().cpu().numpy() for i in range(N) ]\n",
    "vistools.display_patches(XX)\n",
    "\n",
    "print ('OUTPUT FILTERS')\n",
    "YY = [ Denoiser.inv_trans_and_aggreg.weight[i,0,:,:].detach().cpu().numpy() for i in range(N) ]\n",
    "vistools.display_patches(YY)\n",
    "\n",
    "\n",
    "if 1:\n",
    "    print ('CROSS PRODUCT OF THE INPUT FILTERS')\n",
    "    XXX = [ x.flatten()  for x in XX]\n",
    "    vistools.display_imshow(np.abs(np.array(XXX).dot(np.array(XXX).transpose()) ))"
   ]
  },
  {
   "cell_type": "code",
   "execution_count": null,
   "metadata": {},
   "outputs": [],
   "source": []
  },
  {
   "cell_type": "markdown",
   "metadata": {},
   "source": [
    "------------------------"
   ]
  },
  {
   "cell_type": "markdown",
   "metadata": {},
   "source": [
    "# Train a specialized network\n",
    "\n",
    "An advantage of the data driven approach is that we could define a denoiser for a particular class of images. \n",
    "\n",
    "In this section we will train a denoiser for comic strips images using the database in `./datasets/quino/`.\n",
    "\n",
    "\n",
    "**TODO: COULD BE DONE WITH TRANSFER LEARNING**\n",
    "\n",
    "\n",
    "\n",
    "#### Let's see some crops from the database\n",
    "\n",
    "For training and validation we will be using the images in `./datasets/quino/`.\n"
   ]
  },
  {
   "cell_type": "code",
   "execution_count": null,
   "metadata": {
    "scrolled": true
   },
   "outputs": [],
   "source": [
    "from denoising_dataloaders import train_validation_denoising_dataloaders\n",
    "import vistools\n",
    "\n",
    "\n",
    "trainloader, validationloader = train_validation_denoising_dataloaders(\n",
    "                                            './datasets/quino/', \n",
    "                                            noise_sigma=30, \n",
    "                                            crop_size=50, \n",
    "                                            train_batch_size=128 )\n",
    "\n",
    "\n",
    "# this helper function displays the pairs of images\n",
    "X, Y = list(trainloader)[0]\n",
    "\n",
    "print('-- noisy patches --')\n",
    "vistools.display_patches(X)\n",
    "print('-- noiseless patches --')\n",
    "vistools.display_patches(Y)"
   ]
  },
  {
   "cell_type": "markdown",
   "metadata": {},
   "source": [
    "#### Question 8.  Specialized vs universal denising.\n",
    "Train a shallow DnCNN network specialized on denoising images from the `quino` database.\n",
    "Compare the result with the full DnCNN. "
   ]
  },
  {
   "cell_type": "code",
   "execution_count": null,
   "metadata": {},
   "outputs": [],
   "source": [
    "from denoising_dataloaders import train_validation_denoising_dataloaders\n",
    "import vistools\n",
    "\n",
    "\n",
    "trainloader, validationloader = train_validation_denoising_dataloaders(\n",
    "                                            './datasets/quino/', \n",
    "                                            noise_sigma=30, \n",
    "                                            crop_size=50, \n",
    "                                            train_batch_size=128 )\n",
    "\n",
    "\n"
   ]
  },
  {
   "cell_type": "markdown",
   "metadata": {},
   "source": [
    "-------------------------"
   ]
  },
  {
   "cell_type": "markdown",
   "metadata": {},
   "source": [
    "# U-Net [INCOMPLETE]\n",
    "\n",
    "    O. Ronneberger, P. Fischer, T. Brox, \"U-Net: Convolutional Networks for Biomedical Image Segmentation,\" Medical Image Computing and Computer-Assisted Intervention (MICCAI), Springer, LNCS, Vol.9351: 234--241, 2015\n",
    "\n",
    "<img width=500 src=\"https://raw.githubusercontent.com/gfacciol/MVA2018-denoising/master/models/unet.png\"/>\n",
    "\n",
    "\n",
    "\n",
    "\n"
   ]
  },
  {
   "cell_type": "code",
   "execution_count": null,
   "metadata": {},
   "outputs": [],
   "source": []
  },
  {
   "cell_type": "markdown",
   "metadata": {},
   "source": [
    "## train"
   ]
  },
  {
   "cell_type": "code",
   "execution_count": null,
   "metadata": {},
   "outputs": [],
   "source": [
    "from models import UNet\n",
    "\n",
    "\n",
    "# network model\n",
    "Denoiser =  UNet(1,1)\n",
    "\n",
    "# loss\n",
    "loss = nn.MSELoss()\n",
    "#loss = nn.L1Loss()\n",
    "\n",
    "# data\n",
    "trainloader, validationloader = train_validation_denoising_dataloaders(\n",
    "                                          './datasets/Train400/', \n",
    "                                           noise_sigma=30, crop_size=64, \n",
    "                                           train_batch_size=128 )\n",
    "\n",
    "# run the training loop\n",
    "Denoiser, loss, lossv = trainmodel(Denoiser, loss, trainloader, validationloader, \n",
    "                                   num_epochs=100, save_every=10, loss_every=20, \n",
    "                                   filename='Unet_L2_')\n"
   ]
  },
  {
   "cell_type": "code",
   "execution_count": null,
   "metadata": {},
   "outputs": [],
   "source": [
    "from skimage import io\n",
    "import torch\n",
    "from models import DCT\n",
    "\n",
    "\n",
    "Denoiser = torch.load('Unet_L2_10.pt')[0]\n",
    "import vistools\n",
    "\n",
    "\n",
    "\n",
    "\n",
    "img_clean = io.imread('datasets/BSD68/test002.png', dtype='float32') \n",
    "test_denoiser_on_one_image(Denoiser, img_clean, sigma=30)"
   ]
  },
  {
   "cell_type": "code",
   "execution_count": null,
   "metadata": {},
   "outputs": [],
   "source": []
  },
  {
   "cell_type": "markdown",
   "metadata": {},
   "source": [
    "# FFDNet [INCOMPLETE]\n",
    "\n",
    "<img width=700 src=\"https://raw.githubusercontent.com/gfacciol/MVA2018-denoising/master/models/ffdnet.png\"/>\n",
    "\n",
    "\n",
    "\n",
    "     FFDNet(self, sigma=30/255, inchannels=1, outchannels=1, num_of_layers=15, \n",
    "                 features=64, kernel_size=3):\n",
    "        '''\n",
    "        model for a FFDNet network build using CONV_BN_RELU units \n",
    "        this network can handle any level of noise when sigma_map is provided\n",
    "\n",
    "        sigma: is the default level of noise for the network when sigma_map is not specified\n",
    "        The rest of parameters  indicate the input and output channels, \n",
    "        the kernel size (default 3), the number of layers (15 for grayscale),  \n",
    "        and number of features (default 64)\n",
    "        '''\n",
    "the loader\n",
    "\n",
    "\n",
    "    def FFDNet_pretrained_grayscale(sigma=30, savefile=None, verbose=False):\n",
    "        '''\n",
    "        Loads the pretrained weights of DnCNN for grayscale images from \n",
    "        https://github.com/cszn/FFDNet.git\n",
    "\n",
    "        sigma: is the default noise level for the network when sigma_map is not specified\n",
    "        savefile: is the .pt file to save the model weights \n",
    "        returns the FFDNet(1,1) model with 15 layers with the pretrained weights\n",
    "        '''"
   ]
  },
  {
   "cell_type": "code",
   "execution_count": 61,
   "metadata": {},
   "outputs": [
    {
     "data": {
      "text/html": [
       "\n",
       "    <div class=\"gallery2\">\n",
       "        <ul class=\"index\">\n",
       "            <li><a href=\"#\">0<span style=\"background-color: white;  \" ><img src=\"data:image/jpeg;base64,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&#10;\"/></br>denoised (26.43 dB)</span></a></li><li><a href=\"#\">1<span style=\"background-color: white;  \" ><img src=\"data:image/jpeg;base64,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&#10;\"/></br>noisy (14.16 dB)</span></a></li><li><a href=\"#\">2<span style=\"background-color: white;  \" ><img src=\"data:image/jpeg;base64,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&#10;\"/></br>clean</span></a></li>\n",
       "        </ul>\n",
       "    </div>\n",
       "    "
      ],
      "text/plain": [
       "<IPython.core.display.HTML object>"
      ]
     },
     "metadata": {},
     "output_type": "display_data"
    },
    {
     "data": {
      "text/html": [
       "\n",
       "    <style>\n",
       ".gallery2 {\n",
       "    position: relative;\n",
       "    width: 900px;\n",
       "    height: 650px; }\n",
       ".gallery2 .index {\n",
       "    padding: 0;\n",
       "    margin: 0;\n",
       "    width: 10.5em;\n",
       "    list-style: none; }\n",
       ".gallery2 .index li {\n",
       "    margin: 0;\n",
       "    padding: 0;\n",
       "    float: left;}\n",
       ".gallery2 .index a { /* gallery2 item title */\n",
       "    display: block;\n",
       "    background-color: #EEEEEE;\n",
       "    border: 1px solid #FFFFFF;\n",
       "    text-decoration: none;\n",
       "    width: 1.9em;\n",
       "    padding: 6px; }\n",
       ".gallery2 .index a span { /* gallery2 item content */\n",
       "    display: block;\n",
       "    position: absolute;\n",
       "    left: -9999px; /* hidden */\n",
       "    top: 0em;\n",
       "    padding-left: 0em; }\n",
       ".gallery2 .index a span img{ /* gallery2 item content */\n",
       "    max-width: 100%;\n",
       "    }\n",
       ".gallery2 .index li:first-child a span {\n",
       "    top: 0em;\n",
       "    left: 10.5em;\n",
       "    z-index: 99; }\n",
       ".gallery2 .index a:hover {\n",
       "    border: 1px solid #888888; }\n",
       ".gallery2 .index a:hover span {\n",
       "    left: 10.5em;\n",
       "    z-index: 100; }\n",
       "</style>\n",
       "    "
      ],
      "text/plain": [
       "<IPython.core.display.HTML object>"
      ]
     },
     "metadata": {},
     "output_type": "display_data"
    }
   ],
   "source": [
    "from models import FFDNet, FFDNet_pretrained_grayscale\n",
    "from skimage import io\n",
    "\n",
    "\n",
    "sigma=50\n",
    "m = FFDNet_pretrained_grayscale(sigma)\n",
    "\n",
    "img_clean = io.imread('datasets/BSD68/test004.png', dtype='float32') \n",
    "_,_,_,out = test_denoiser_on_one_image(m, img_clean[:-1,:-1], sigma=sigma)\n",
    "\n"
   ]
  },
  {
   "cell_type": "markdown",
   "metadata": {},
   "source": [
    "---------------------------\n",
    "[//]: # (© 2018 Gabriele Facciolo)\n",
    "[//]: # (<div style=\"text-align:center; font-size:75%;\"> Copyright © 2018 Gabriele Facciolo. All rights reserved.</div> )"
   ]
  }
 ],
 "metadata": {
  "kernelspec": {
   "display_name": "Python 3",
   "language": "python",
   "name": "python3"
  },
  "language_info": {
   "codemirror_mode": {
    "name": "ipython",
    "version": 3
   },
   "file_extension": ".py",
   "mimetype": "text/x-python",
   "name": "python",
   "nbconvert_exporter": "python",
   "pygments_lexer": "ipython3",
   "version": "3.5.2"
  },
  "varInspector": {
   "cols": {
    "lenName": 16,
    "lenType": 16,
    "lenVar": 40
   },
   "kernels_config": {
    "python": {
     "delete_cmd_postfix": "",
     "delete_cmd_prefix": "del ",
     "library": "var_list.py",
     "varRefreshCmd": "print(var_dic_list())"
    },
    "r": {
     "delete_cmd_postfix": ") ",
     "delete_cmd_prefix": "rm(",
     "library": "var_list.r",
     "varRefreshCmd": "cat(var_dic_list()) "
    }
   },
   "types_to_exclude": [
    "module",
    "function",
    "builtin_function_or_method",
    "instance",
    "_Feature"
   ],
   "window_display": false
  }
 },
 "nbformat": 4,
 "nbformat_minor": 2
}
